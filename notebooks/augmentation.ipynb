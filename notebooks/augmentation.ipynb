{
 "cells": [
  {
   "cell_type": "code",
   "execution_count": null,
   "metadata": {
    "vscode": {
     "languageId": "plaintext"
    }
   },
   "outputs": [],
   "source": [
    "from tensorflow.keras.preprocessing.image import ImageDataGenerator\n",
    "import os\n",
    "\n",
    "# 데이터 경로\n",
    "processed_path = \"data/processed_frames/\"\n",
    "augmented_path = \"data/augmented_frames/\"\n",
    "\n",
    "if not os.path.exists(augmented_path):\n",
    "    os.makedirs(augmented_path)\n",
    "\n",
    "# 데이터 증강 생성기\n",
    "datagen = ImageDataGenerator(\n",
    "    rotation_range=20,\n",
    "    width_shift_range=0.2,\n",
    "    height_shift_range=0.2,\n",
    "    shear_range=0.2,\n",
    "    zoom_range=0.2,\n",
    "    horizontal_flip=True,\n",
    "    fill_mode='nearest'\n",
    ")\n",
    "\n",
    "# 증강된 데이터 저장\n",
    "for file in os.listdir(processed_path):\n",
    "    img = cv2.imread(os.path.join(processed_path, file))\n",
    "    img = img.reshape((1,) + img.shape)\n",
    "\n",
    "    # 저장\n",
    "    i = 0\n",
    "    for batch in datagen.flow(img, batch_size=1, save_to_dir=augmented_path, save_prefix=\"aug\", save_format=\"jpg\"):\n",
    "        i += 1\n",
    "        if i > 10:  # 각 이미지당 10개의 증강 이미지 생성\n",
    "            break\n"
   ]
  }
 ],
 "metadata": {
  "language_info": {
   "name": "python"
  }
 },
 "nbformat": 4,
 "nbformat_minor": 2
}
