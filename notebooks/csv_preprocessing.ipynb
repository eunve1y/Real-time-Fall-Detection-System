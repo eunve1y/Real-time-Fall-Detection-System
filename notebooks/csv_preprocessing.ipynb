{
 "cells": [
  {
   "cell_type": "code",
   "execution_count": null,
   "metadata": {
    "vscode": {
     "languageId": "plaintext"
    }
   },
   "outputs": [],
   "source": [
    "import pandas as pd\n",
    "import os\n",
    "\n",
    "# 경로 설정\n",
    "csv_path = \"data/csv/\"\n",
    "processed_csv_path = \"data/processed_csv/\"\n",
    "\n",
    "if not os.path.exists(processed_csv_path):\n",
    "    os.makedirs(processed_csv_path)\n",
    "\n",
    "# 모든 CSV 파일 처리\n",
    "for csv_file in os.listdir(csv_path):\n",
    "    csv_file_path = os.path.join(csv_path, csv_file)\n",
    "    df = pd.read_csv(csv_file_path)\n",
    "\n",
    "    # 정규화\n",
    "    df_normalized = (df - df.mean()) / df.std()\n",
    "\n",
    "    # 저장\n",
    "    output_csv_path = os.path.join(processed_csv_path, f\"processed_{csv_file}\")\n",
    "    df_normalized.to_csv(output_csv_path, index=False)\n"
   ]
  }
 ],
 "metadata": {
  "language_info": {
   "name": "python"
  }
 },
 "nbformat": 4,
 "nbformat_minor": 2
}
